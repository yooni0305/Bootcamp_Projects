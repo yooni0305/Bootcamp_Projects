{
  "nbformat": 4,
  "nbformat_minor": 0,
  "metadata": {
    "colab": {
      "provenance": [],
      "toc_visible": true,
      "authorship_tag": "ABX9TyPK2wr/r/7KJ8M0FZYo9tQY",
      "include_colab_link": true
    },
    "kernelspec": {
      "name": "python3",
      "display_name": "Python 3"
    },
    "language_info": {
      "name": "python"
    }
  },
  "cells": [
    {
      "cell_type": "markdown",
      "metadata": {
        "id": "view-in-github",
        "colab_type": "text"
      },
      "source": [
        "<a href=\"https://colab.research.google.com/github/yooni0305/Bootcamp_Projects/blob/main/Python_basic.ipynb\" target=\"_parent\"><img src=\"https://colab.research.google.com/assets/colab-badge.svg\" alt=\"Open In Colab\"/></a>"
      ]
    },
    {
      "cell_type": "code",
      "execution_count": null,
      "metadata": {
        "colab": {
          "base_uri": "https://localhost:8080/"
        },
        "id": "Yu4lm6N50tR8",
        "outputId": "148f272e-67ee-44ef-e68b-716307a69edd"
      },
      "outputs": [
        {
          "output_type": "stream",
          "name": "stdout",
          "text": [
            "[1, 2, 3, 4, 5, 6, 7, 8, 9]\n",
            "fistman study\n",
            "1\n"
          ]
        }
      ],
      "source": [
        "a=[1,2,3,4,5,6,7,8,9]\n",
        "b='fistman study'\n",
        "print(a)\n",
        "print(b)\n",
        "print(a[0])"
      ]
    },
    {
      "cell_type": "code",
      "source": [
        "print(a[3])\n",
        "print(a[1:5:2])\n",
        "print(a[:4])\n",
        "print(a[4:])"
      ],
      "metadata": {
        "colab": {
          "base_uri": "https://localhost:8080/"
        },
        "id": "WLwyoaoD1YBm",
        "outputId": "87e5db53-b1be-408d-dcc5-b4acf3229ac3"
      },
      "execution_count": null,
      "outputs": [
        {
          "output_type": "stream",
          "name": "stdout",
          "text": [
            "4\n",
            "[2, 4]\n",
            "[1, 2, 3, 4]\n",
            "[5, 6, 7, 8, 9]\n"
          ]
        }
      ]
    },
    {
      "cell_type": "code",
      "source": [
        "dic={1:'a',2:'b',3:\"c\",4:\"d\",5:\"e\"}\n",
        "dic_2={'자':'쥐','축':'소','인':'호랑이'}\n",
        "print(dic)\n",
        "print(dic_2)\n",
        "print(dic[4])\n",
        "dic[6]='f'\n",
        "print(dic)\n",
        "dic_2[4]=\"내맘\"\n",
        "print(dic_2)"
      ],
      "metadata": {
        "colab": {
          "base_uri": "https://localhost:8080/"
        },
        "id": "Q1Stw2J377ej",
        "outputId": "2f7bacc4-f025-4b1d-af34-8b4f3758c2a4"
      },
      "execution_count": null,
      "outputs": [
        {
          "output_type": "stream",
          "name": "stdout",
          "text": [
            "{1: 'a', 2: 'b', 3: 'c', 4: 'd', 5: 'e'}\n",
            "{'자': '쥐', '축': '소', '인': '호랑이'}\n",
            "d\n",
            "{1: 'a', 2: 'b', 3: 'c', 4: 'd', 5: 'e', 6: 'f'}\n",
            "{'자': '쥐', '축': '소', '인': '호랑이', 4: '내맘'}\n"
          ]
        }
      ]
    },
    {
      "cell_type": "code",
      "source": [
        "num1=5\n",
        "num2=7\n",
        "print('첫번째 수: {}'.format(num1))\n",
        "print('두번째 수: {}'.format(num2))"
      ],
      "metadata": {
        "colab": {
          "base_uri": "https://localhost:8080/"
        },
        "id": "YHmMeAhp_OlY",
        "outputId": "50a7a9db-9f2a-41dc-b9eb-af3cbb11343c"
      },
      "execution_count": null,
      "outputs": [
        {
          "output_type": "stream",
          "name": "stdout",
          "text": [
            "첫번째 수: 5\n",
            "두번째 수: 7\n"
          ]
        }
      ]
    },
    {
      "cell_type": "code",
      "source": [
        "x = 5\n",
        "\n",
        "if x == 2:\n",
        "    print(\"x is indeed 2\")\n",
        "else:\n",
        "    print (\"x is not 2\")"
      ],
      "metadata": {
        "id": "zSXW5mWo_NkT",
        "colab": {
          "base_uri": "https://localhost:8080/"
        },
        "outputId": "f6a14001-71f0-408e-b50d-4e291c8e68f1"
      },
      "execution_count": null,
      "outputs": [
        {
          "output_type": "stream",
          "name": "stdout",
          "text": [
            "x is not 2\n"
          ]
        }
      ]
    },
    {
      "cell_type": "code",
      "source": [
        "x = 6\n",
        "y = 5\n",
        "\n",
        "if x > y:\n",
        "    print (\"x is higher than y\")\n",
        "else:\n",
        "    print(\"x is lower or equal to y\")"
      ],
      "metadata": {
        "colab": {
          "base_uri": "https://localhost:8080/"
        },
        "id": "VXKL9w9J8oHT",
        "outputId": "a6569062-b4ff-4706-8349-a00ac5b4c082"
      },
      "execution_count": null,
      "outputs": [
        {
          "output_type": "stream",
          "name": "stdout",
          "text": [
            "x is higher than y\n"
          ]
        }
      ]
    },
    {
      "cell_type": "code",
      "source": [
        "x = input(\"choose a number from 1-100 and hit Enter. \")\n",
        "\n",
        "print(f\"You have chosen the number : {x}\")"
      ],
      "metadata": {
        "colab": {
          "base_uri": "https://localhost:8080/"
        },
        "id": "o7QMYkL--1Z1",
        "outputId": "acff1f42-ae0c-48d5-9db2-86e1f56da8af"
      },
      "execution_count": null,
      "outputs": [
        {
          "output_type": "stream",
          "name": "stdout",
          "text": [
            "choose a number from 1-100 and hit Enter. 3\n",
            "You have chosen the number : 3\n"
          ]
        }
      ]
    },
    {
      "cell_type": "code",
      "source": [
        "for i in [1,2,3,4]:\n",
        "    print (i%2==0)"
      ],
      "metadata": {
        "id": "qjYnzF8HAP8Q",
        "colab": {
          "base_uri": "https://localhost:8080/"
        },
        "outputId": "5e4fd2a9-024a-41d7-eb78-fb3cb30fb7e5"
      },
      "execution_count": null,
      "outputs": [
        {
          "output_type": "stream",
          "name": "stdout",
          "text": [
            "False\n",
            "True\n",
            "False\n",
            "True\n"
          ]
        }
      ]
    },
    {
      "cell_type": "code",
      "source": [
        "for i in range(5,50,3):\n",
        "    print (i)"
      ],
      "metadata": {
        "colab": {
          "base_uri": "https://localhost:8080/"
        },
        "id": "xl2H0RORCEmc",
        "outputId": "ef55a02f-93a7-45e8-bb74-64299de83dee"
      },
      "execution_count": null,
      "outputs": [
        {
          "output_type": "stream",
          "name": "stdout",
          "text": [
            "5\n",
            "8\n",
            "11\n",
            "14\n",
            "17\n",
            "20\n",
            "23\n",
            "26\n",
            "29\n",
            "32\n",
            "35\n",
            "38\n",
            "41\n",
            "44\n",
            "47\n"
          ]
        }
      ]
    },
    {
      "cell_type": "code",
      "source": [
        "sum=0\n",
        "print('10까지의 합을 구하시오')\n",
        "for x in range(4):\n",
        "    sum=sum+x\n",
        "print (sum)"
      ],
      "metadata": {
        "colab": {
          "base_uri": "https://localhost:8080/"
        },
        "id": "yI5T9dPKbNMs",
        "outputId": "d3982f21-9380-4fd8-f6f5-8444c331f63c"
      },
      "execution_count": null,
      "outputs": [
        {
          "output_type": "stream",
          "name": "stdout",
          "text": [
            "10까지의 합을 구하시오\n",
            "6\n"
          ]
        }
      ]
    },
    {
      "cell_type": "code",
      "source": [
        "sum=0\n",
        "my_sum=int(input('Up to which number should I calculate the sum? : '))\n",
        "print('I will calculate the sum up to {}'.format(my_sum))\n",
        "for x in range(my_sum+1):\n",
        "    sum=sum+x\n",
        "print (sum)"
      ],
      "metadata": {
        "colab": {
          "base_uri": "https://localhost:8080/"
        },
        "id": "kqon-cBZcgXC",
        "outputId": "919e9b11-cc2b-4406-9e39-561ec07e8d10"
      },
      "execution_count": null,
      "outputs": [
        {
          "output_type": "stream",
          "name": "stdout",
          "text": [
            "Up to which number should I calculate the sum? : 67\n",
            "I will calculate the sum up to 67\n",
            "2278\n"
          ]
        }
      ]
    },
    {
      "cell_type": "code",
      "source": [
        "for x in range(1,10):\n",
        "    print('{}*{}={}'.format(2,x,2*x))\n"
      ],
      "metadata": {
        "colab": {
          "base_uri": "https://localhost:8080/"
        },
        "id": "-XqX_MkmgIhV",
        "outputId": "7f604b89-af44-4ceb-b48d-b29caf652a01"
      },
      "execution_count": null,
      "outputs": [
        {
          "output_type": "stream",
          "name": "stdout",
          "text": [
            "2*1=2\n",
            "2*2=4\n",
            "2*3=6\n",
            "2*4=8\n",
            "2*5=10\n",
            "2*6=12\n",
            "2*7=14\n",
            "2*8=16\n",
            "2*9=18\n"
          ]
        }
      ]
    },
    {
      "cell_type": "code",
      "source": [],
      "metadata": {
        "id": "0up1Oej7h_xN"
      },
      "execution_count": null,
      "outputs": []
    },
    {
      "cell_type": "code",
      "source": [
        "num=int(input('숫자를 입력하세요 : '))\n",
        "if num%2==0:\n",
        "    print ('입력한 숫자{}은 짝수'.format(num))\n",
        "else:\n",
        "    print (\"입력한 숫자 {}은 홀수\".format(num))"
      ],
      "metadata": {
        "colab": {
          "base_uri": "https://localhost:8080/"
        },
        "id": "h8xpR3pZhopl",
        "outputId": "4b20934d-15d6-4387-95dc-252b73f1d77f"
      },
      "execution_count": null,
      "outputs": [
        {
          "output_type": "stream",
          "name": "stdout",
          "text": [
            "숫자를 입력하세요 : 5\n",
            "입력한 숫자 5은 홀수\n"
          ]
        }
      ]
    },
    {
      "cell_type": "code",
      "source": [
        "import random\n",
        "com=random.randint(1,10)\n",
        "my=int(input(\"1부터 10까지 어떤 수가 나올까요? :\"))\n",
        "if com>my:\n",
        "    print('그보다 큰 수 입니다')\n",
        "elif com < my:\n",
        "    print ('그보다 작은 수 입니다')\n",
        "else:\n",
        "    print ('맞췄습니다.!')\n"
      ],
      "metadata": {
        "colab": {
          "base_uri": "https://localhost:8080/"
        },
        "id": "EtB_RCuehojT",
        "outputId": "0d3972dc-e616-4971-da22-0026fe5d3bfd"
      },
      "execution_count": null,
      "outputs": [
        {
          "output_type": "stream",
          "name": "stdout",
          "text": [
            "1부터 10까지 어떤 수가 나올까요? :3\n",
            "그보다 큰 수 입니다\n"
          ]
        }
      ]
    },
    {
      "cell_type": "code",
      "source": [
        "import random\n",
        "com=random.randint(1,10)\n",
        "while True:\n",
        "    my=int(input(\"1부터 10까지 어떤 수가 나올까요? :\"))\n",
        "    if com>my:\n",
        "        print('그보다 큰 수 입니다')\n",
        "    elif com < my:\n",
        "        print ('그보다 작은 수 입니다')\n",
        "    else:\n",
        "        print ('맞췄습니다.!')\n",
        "        break"
      ],
      "metadata": {
        "colab": {
          "base_uri": "https://localhost:8080/"
        },
        "id": "29rKQCwHm56j",
        "outputId": "39f5f75a-49a0-42b0-89d1-12c34f9ef720"
      },
      "execution_count": null,
      "outputs": [
        {
          "output_type": "stream",
          "name": "stdout",
          "text": [
            "1부터 10까지 어떤 수가 나올까요? :5\n",
            "그보다 큰 수 입니다\n",
            "1부터 10까지 어떤 수가 나올까요? :3\n",
            "그보다 큰 수 입니다\n",
            "1부터 10까지 어떤 수가 나올까요? :4\n",
            "그보다 큰 수 입니다\n",
            "1부터 10까지 어떤 수가 나올까요? :7\n",
            "그보다 큰 수 입니다\n",
            "1부터 10까지 어떤 수가 나올까요? :8\n",
            "맞췄습니다.!\n"
          ]
        }
      ]
    },
    {
      "cell_type": "code",
      "source": [
        "first_num=int(input('어디서부터 출력할까요?'))\n",
        "my_num=int(input('어디까지 출력할까요?'))\n",
        "while first_num<=my_num:\n",
        "    print(first_num)\n",
        "    first_num=first_num+1"
      ],
      "metadata": {
        "colab": {
          "base_uri": "https://localhost:8080/"
        },
        "id": "5DtEHuLnns50",
        "outputId": "5207f92f-477e-4b26-cca5-a91bbddef65e"
      },
      "execution_count": null,
      "outputs": [
        {
          "output_type": "stream",
          "name": "stdout",
          "text": [
            "어디서부터 출력할까요?3\n",
            "어디까지 출력할까요?10\n",
            "3\n",
            "4\n",
            "5\n",
            "6\n",
            "7\n",
            "8\n",
            "9\n",
            "10\n"
          ]
        }
      ]
    },
    {
      "cell_type": "markdown",
      "source": [
        "Repeat entered number x, n times"
      ],
      "metadata": {
        "id": "6jmBv3xhwadH"
      }
    },
    {
      "cell_type": "code",
      "source": [
        "num=1\n",
        "x=int(input(\"숫자를 입력하세요 : \"))\n",
        "n=int(input(\"몇번 반복할까요? \"))\n",
        "while num<=n:\n",
        "      print(x)\n",
        "      num=num+1\n"
      ],
      "metadata": {
        "colab": {
          "base_uri": "https://localhost:8080/"
        },
        "id": "EF1qjRM7uNlZ",
        "outputId": "a4775f2b-0ede-476c-c587-6e3f09b66f84"
      },
      "execution_count": null,
      "outputs": [
        {
          "output_type": "stream",
          "name": "stdout",
          "text": [
            "숫자를 입력하세요 : 6\n",
            "몇번 반복할까요? 6\n",
            "6\n",
            "6\n",
            "6\n",
            "6\n",
            "6\n",
            "6\n"
          ]
        }
      ]
    },
    {
      "cell_type": "code",
      "source": [
        "num=1\n",
        "x=input(\"문자를 입력하세요 : \")\n",
        "n=int(input(\"몇번 반복할까요? \"))\n",
        "while num<=n:\n",
        "      print(x)\n",
        "      num=num+1"
      ],
      "metadata": {
        "colab": {
          "base_uri": "https://localhost:8080/"
        },
        "id": "JCS-nfPkxoK-",
        "outputId": "4fbf3d29-d712-477a-dfc3-469637c6c8e1"
      },
      "execution_count": null,
      "outputs": [
        {
          "output_type": "stream",
          "name": "stdout",
          "text": [
            "문자를 입력하세요 : Mouau\n",
            "몇번 반복할까요? 3\n",
            "Mouau\n",
            "Mouau\n",
            "Mouau\n"
          ]
        }
      ]
    },
    {
      "cell_type": "code",
      "source": [
        "animal =['뚱이','깜이','이찌','토리','떠유니']\n",
        "나이 = [10,3,1,5,7]\n",
        "질문= input(\"당신의 강아지이름은 무엇인가요? :\")\n",
        "if 질문 in animal:\n",
        "    index=animal.index(질문)\n",
        "    age=나이[index]\n",
        "    print(f\"우리집 강아지의 이름은 {질문}이고, 나이는 {age}입니다.사랑스러워요\")\n",
        "else:\n",
        "    print(\"해당 이름의 강아지는 없습니다. 다시 확인해주세요\")\n"
      ],
      "metadata": {
        "colab": {
          "base_uri": "https://localhost:8080/"
        },
        "id": "8ExtgUNK4BwB",
        "outputId": "a52486b6-e402-40c5-c7c6-aa8cba81201b"
      },
      "execution_count": null,
      "outputs": [
        {
          "output_type": "stream",
          "name": "stdout",
          "text": [
            "당신의 강아지이름은 무엇인가요? :토리\n",
            "우리집 강아지의 이름은 토리이고, 나이는 5입니다.사랑스러워요\n"
          ]
        }
      ]
    },
    {
      "cell_type": "code",
      "source": [
        "\n",
        "\n",
        "station =[\"사당\",\"을지로\"]\n",
        "print(f\"{station} 행 열차가 들어오고 있습니다.\")"
      ],
      "metadata": {
        "colab": {
          "base_uri": "https://localhost:8080/"
        },
        "id": "xrtTWwOR8YAQ",
        "outputId": "9cafbaca-ec47-4aae-f26c-a089066d358d"
      },
      "execution_count": null,
      "outputs": [
        {
          "output_type": "stream",
          "name": "stdout",
          "text": [
            "['사당', '을지로'] 행 열차가 들어오고 있습니다.\n"
          ]
        }
      ]
    },
    {
      "cell_type": "code",
      "source": [
        "print(5)\n",
        "print(-10)\n",
        "print(\"ㅋ\"*8)\n",
        "print(5 > 10)\n",
        "print(True)\n",
        "print(False)\n",
        "print(not 5 >10)\n",
        "#애완동물을 소개해주세요\n",
        "print(\"우리집 강아지 이름은 연탄이에요\")\n",
        "print(\"연탄이는 \")\n"
      ],
      "metadata": {
        "colab": {
          "base_uri": "https://localhost:8080/",
          "height": 106
        },
        "id": "d2kiAzAdIa9e",
        "outputId": "b8d2c333-ab0b-4754-fb74-bbcef56b0135"
      },
      "execution_count": null,
      "outputs": [
        {
          "output_type": "error",
          "ename": "SyntaxError",
          "evalue": "unmatched ')' (<ipython-input-13-309674fe620d>, line 7)",
          "traceback": [
            "\u001b[0;36m  File \u001b[0;32m\"<ipython-input-13-309674fe620d>\"\u001b[0;36m, line \u001b[0;32m7\u001b[0m\n\u001b[0;31m    print(not 5 >10))\u001b[0m\n\u001b[0m                    ^\u001b[0m\n\u001b[0;31mSyntaxError\u001b[0m\u001b[0;31m:\u001b[0m unmatched ')'\n"
          ]
        }
      ]
    }
  ]
}